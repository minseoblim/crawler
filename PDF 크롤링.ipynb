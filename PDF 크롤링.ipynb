{
 "cells": [
  {
   "cell_type": "code",
   "execution_count": 11,
   "metadata": {},
   "outputs": [
    {
     "name": "stdout",
     "output_type": "stream",
     "text": [
      "Collecting slate3k\n",
      "  Downloading https://files.pythonhosted.org/packages/cb/e3/f27cac1dd24617894cf7ddb5da13beca27c9236736466bebaf5dd2a902c1/slate3k-0.5.3-py2.py3-none-any.whl\n",
      "Requirement already satisfied: pdfminer3k in c:\\users\\xnote\\anaconda3\\lib\\site-packages (from slate3k) (1.3.4)\n",
      "Requirement already satisfied: ply in c:\\users\\xnote\\anaconda3\\lib\\site-packages (from pdfminer3k->slate3k) (3.11)\n",
      "Installing collected packages: slate3k\n",
      "Successfully installed slate3k-0.5.3\n"
     ]
    }
   ],
   "source": [
    "!pip install slate3k"
   ]
  },
  {
   "cell_type": "code",
   "execution_count": null,
   "metadata": {},
   "outputs": [],
   "source": [
    "import slate3k as slate"
   ]
  },
  {
   "cell_type": "code",
   "execution_count": 33,
   "metadata": {},
   "outputs": [],
   "source": [
    "list = [\"KB able Plus통장\",\n",
    "\"KB WELCOME통장\",\n",
    "'KB Young Youth 어린이통장',\n",
    "'KB Young Youth 청소년통장',\n",
    "'KB가맹점우대통장',\n",
    "'KB골든라이프연금우대통장',\n",
    "'KB공무원연금평생안심통장',\n",
    "'KB국민ONE통장',\n",
    "'KB국민연금安心통장',\n",
    "'KB국민희망지킴이통장',\n",
    "'KB군인연금평생안심통장',\n",
    "'KB나라사랑우대통장',\n",
    "'KB내맘대로프리랜서통장',\n",
    "'KB마이핏통장',\n",
    "'KB보육_복지시설우대통장',\n",
    "'KB부가세납부전용통장',\n",
    "\"KB사학연금평생안심통장\",\n",
    "\"KB아시아나ONE통장\",\n",
    "\"KB연구비통장\",\n",
    "\"KB우대저축통장 (개인 MMDA)\",\n",
    "\"KB종합통장\",\n",
    "\"KB주거행복 월세통장\",\n",
    "\"KB짝꿍통장\",\n",
    "\"KB하도급지킴이통장\",\n",
    "\"KB행복지킴이통장\",\n",
    "\"KB호국보훈지킴이통장\",\n",
    "\"국민아파트생활통장\",\n",
    "\"사업자응원통장\",\n",
    "\"주택청약종합저축\",\n",
    "\"직장인우대종합통장\",\n",
    "\"청년우대형 주택청약종합저축\"]\n",
    "\n",
    "for i in list:\n",
    "    pdf = i +'.pdf'\n",
    "    with open(pdf, 'rb') as f:\n",
    "        doc = slate.PDF(f)\n",
    "\n",
    "    f = open(i + \".txt\", \"wt\", encoding=\"utf-8\" )\n",
    "    for s in doc:\n",
    "        f.write(s)\n",
    "\n",
    "    f.close()"
   ]
  }
 ],
 "metadata": {
  "kernelspec": {
   "display_name": "Python 3",
   "language": "python",
   "name": "python3"
  },
  "language_info": {
   "codemirror_mode": {
    "name": "ipython",
    "version": 3
   },
   "file_extension": ".py",
   "mimetype": "text/x-python",
   "name": "python",
   "nbconvert_exporter": "python",
   "pygments_lexer": "ipython3",
   "version": "3.7.3"
  }
 },
 "nbformat": 4,
 "nbformat_minor": 2
}
